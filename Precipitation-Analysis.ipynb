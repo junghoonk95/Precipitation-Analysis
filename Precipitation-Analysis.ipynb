{
 "cells": [
  {
   "cell_type": "code",
   "execution_count": 327,
   "id": "informative-manor",
   "metadata": {},
   "outputs": [],
   "source": [
    "import pandas as pd\n",
    "import numpy as np\n",
    "import matplotlib.pyplot as plt\n",
    "from sklearn.linear_model import LinearRegression\n",
    "from sklearn.preprocessing import PolynomialFeatures\n",
    "from sklearn.decomposition import PCA\n",
    "from sklearn.impute import SimpleImputer\n",
    "from sklearn.preprocessing import StandardScaler\n",
    "from sklearn.model_selection import train_test_split\n",
    "from sklearn.metrics import mean_squared_error,confusion_matrix, precision_score, recall_score, f1_score\n",
    "from sklearn.pipeline import Pipeline\n",
    "from sklearn.linear_model import LogisticRegression"
   ]
  },
  {
   "cell_type": "code",
   "execution_count": 328,
   "id": "professional-sunrise",
   "metadata": {},
   "outputs": [],
   "source": [
    "plt.rcParams[\"font.size\"] = 16"
   ]
  },
  {
   "cell_type": "code",
   "execution_count": 329,
   "id": "olive-sister",
   "metadata": {},
   "outputs": [
    {
     "data": {
      "text/html": [
       "<div>\n",
       "<style scoped>\n",
       "    .dataframe tbody tr th:only-of-type {\n",
       "        vertical-align: middle;\n",
       "    }\n",
       "\n",
       "    .dataframe tbody tr th {\n",
       "        vertical-align: top;\n",
       "    }\n",
       "\n",
       "    .dataframe thead th {\n",
       "        text-align: right;\n",
       "    }\n",
       "</style>\n",
       "<table border=\"1\" class=\"dataframe\">\n",
       "  <thead>\n",
       "    <tr style=\"text-align: right;\">\n",
       "      <th></th>\n",
       "      <th>STATION</th>\n",
       "      <th>DATE</th>\n",
       "      <th>DEWP</th>\n",
       "      <th>FRSHTT</th>\n",
       "      <th>MAX</th>\n",
       "      <th>MIN</th>\n",
       "      <th>PRCP</th>\n",
       "      <th>STP</th>\n",
       "      <th>TEMP</th>\n",
       "      <th>VISIB</th>\n",
       "      <th>WDSP</th>\n",
       "    </tr>\n",
       "  </thead>\n",
       "  <tbody>\n",
       "    <tr>\n",
       "      <th>0</th>\n",
       "      <td>72641014837</td>\n",
       "      <td>2010-01-01</td>\n",
       "      <td>1.4</td>\n",
       "      <td>0</td>\n",
       "      <td>28.0</td>\n",
       "      <td>-0.9</td>\n",
       "      <td>0.00</td>\n",
       "      <td>992.6</td>\n",
       "      <td>8.8</td>\n",
       "      <td>10.0</td>\n",
       "      <td>5.3</td>\n",
       "    </tr>\n",
       "    <tr>\n",
       "      <th>1</th>\n",
       "      <td>72641014837</td>\n",
       "      <td>2010-01-02</td>\n",
       "      <td>-4.8</td>\n",
       "      <td>0</td>\n",
       "      <td>15.1</td>\n",
       "      <td>-5.1</td>\n",
       "      <td>0.00</td>\n",
       "      <td>998.1</td>\n",
       "      <td>3.3</td>\n",
       "      <td>10.0</td>\n",
       "      <td>7.0</td>\n",
       "    </tr>\n",
       "    <tr>\n",
       "      <th>2</th>\n",
       "      <td>72641014837</td>\n",
       "      <td>2010-01-03</td>\n",
       "      <td>-6.0</td>\n",
       "      <td>1000</td>\n",
       "      <td>12.0</td>\n",
       "      <td>-8.0</td>\n",
       "      <td>0.00</td>\n",
       "      <td>999.5</td>\n",
       "      <td>1.3</td>\n",
       "      <td>9.7</td>\n",
       "      <td>5.2</td>\n",
       "    </tr>\n",
       "    <tr>\n",
       "      <th>3</th>\n",
       "      <td>72641014837</td>\n",
       "      <td>2010-01-04</td>\n",
       "      <td>2.0</td>\n",
       "      <td>0</td>\n",
       "      <td>17.1</td>\n",
       "      <td>-8.0</td>\n",
       "      <td>0.00</td>\n",
       "      <td>995.8</td>\n",
       "      <td>8.3</td>\n",
       "      <td>10.0</td>\n",
       "      <td>6.0</td>\n",
       "    </tr>\n",
       "    <tr>\n",
       "      <th>4</th>\n",
       "      <td>72641014837</td>\n",
       "      <td>2010-01-05</td>\n",
       "      <td>5.3</td>\n",
       "      <td>0</td>\n",
       "      <td>19.0</td>\n",
       "      <td>1.0</td>\n",
       "      <td>0.00</td>\n",
       "      <td>992.1</td>\n",
       "      <td>12.9</td>\n",
       "      <td>9.9</td>\n",
       "      <td>6.1</td>\n",
       "    </tr>\n",
       "    <tr>\n",
       "      <th>...</th>\n",
       "      <td>...</td>\n",
       "      <td>...</td>\n",
       "      <td>...</td>\n",
       "      <td>...</td>\n",
       "      <td>...</td>\n",
       "      <td>...</td>\n",
       "      <td>...</td>\n",
       "      <td>...</td>\n",
       "      <td>...</td>\n",
       "      <td>...</td>\n",
       "      <td>...</td>\n",
       "    </tr>\n",
       "    <tr>\n",
       "      <th>3647</th>\n",
       "      <td>72641014837</td>\n",
       "      <td>2019-12-27</td>\n",
       "      <td>26.8</td>\n",
       "      <td>0</td>\n",
       "      <td>48.9</td>\n",
       "      <td>28.0</td>\n",
       "      <td>0.00</td>\n",
       "      <td>989.3</td>\n",
       "      <td>33.7</td>\n",
       "      <td>9.9</td>\n",
       "      <td>5.8</td>\n",
       "    </tr>\n",
       "    <tr>\n",
       "      <th>3648</th>\n",
       "      <td>72641014837</td>\n",
       "      <td>2019-12-28</td>\n",
       "      <td>25.4</td>\n",
       "      <td>11000</td>\n",
       "      <td>37.9</td>\n",
       "      <td>21.0</td>\n",
       "      <td>0.00</td>\n",
       "      <td>988.9</td>\n",
       "      <td>29.3</td>\n",
       "      <td>6.0</td>\n",
       "      <td>4.1</td>\n",
       "    </tr>\n",
       "    <tr>\n",
       "      <th>3649</th>\n",
       "      <td>72641014837</td>\n",
       "      <td>2019-12-29</td>\n",
       "      <td>44.0</td>\n",
       "      <td>10000</td>\n",
       "      <td>54.0</td>\n",
       "      <td>21.2</td>\n",
       "      <td>0.90</td>\n",
       "      <td>971.9</td>\n",
       "      <td>47.1</td>\n",
       "      <td>6.7</td>\n",
       "      <td>8.8</td>\n",
       "    </tr>\n",
       "    <tr>\n",
       "      <th>3650</th>\n",
       "      <td>72641014837</td>\n",
       "      <td>2019-12-30</td>\n",
       "      <td>32.4</td>\n",
       "      <td>11000</td>\n",
       "      <td>54.0</td>\n",
       "      <td>30.0</td>\n",
       "      <td>0.37</td>\n",
       "      <td>964.8</td>\n",
       "      <td>36.6</td>\n",
       "      <td>9.1</td>\n",
       "      <td>6.2</td>\n",
       "    </tr>\n",
       "    <tr>\n",
       "      <th>3651</th>\n",
       "      <td>72641014837</td>\n",
       "      <td>2019-12-31</td>\n",
       "      <td>19.5</td>\n",
       "      <td>1000</td>\n",
       "      <td>42.1</td>\n",
       "      <td>23.0</td>\n",
       "      <td>0.16</td>\n",
       "      <td>970.2</td>\n",
       "      <td>25.4</td>\n",
       "      <td>7.0</td>\n",
       "      <td>7.9</td>\n",
       "    </tr>\n",
       "  </tbody>\n",
       "</table>\n",
       "<p>3652 rows × 11 columns</p>\n",
       "</div>"
      ],
      "text/plain": [
       "          STATION        DATE  DEWP  FRSHTT   MAX   MIN  PRCP    STP  TEMP  \\\n",
       "0     72641014837  2010-01-01   1.4       0  28.0  -0.9  0.00  992.6   8.8   \n",
       "1     72641014837  2010-01-02  -4.8       0  15.1  -5.1  0.00  998.1   3.3   \n",
       "2     72641014837  2010-01-03  -6.0    1000  12.0  -8.0  0.00  999.5   1.3   \n",
       "3     72641014837  2010-01-04   2.0       0  17.1  -8.0  0.00  995.8   8.3   \n",
       "4     72641014837  2010-01-05   5.3       0  19.0   1.0  0.00  992.1  12.9   \n",
       "...           ...         ...   ...     ...   ...   ...   ...    ...   ...   \n",
       "3647  72641014837  2019-12-27  26.8       0  48.9  28.0  0.00  989.3  33.7   \n",
       "3648  72641014837  2019-12-28  25.4   11000  37.9  21.0  0.00  988.9  29.3   \n",
       "3649  72641014837  2019-12-29  44.0   10000  54.0  21.2  0.90  971.9  47.1   \n",
       "3650  72641014837  2019-12-30  32.4   11000  54.0  30.0  0.37  964.8  36.6   \n",
       "3651  72641014837  2019-12-31  19.5    1000  42.1  23.0  0.16  970.2  25.4   \n",
       "\n",
       "      VISIB  WDSP  \n",
       "0      10.0   5.3  \n",
       "1      10.0   7.0  \n",
       "2       9.7   5.2  \n",
       "3      10.0   6.0  \n",
       "4       9.9   6.1  \n",
       "...     ...   ...  \n",
       "3647    9.9   5.8  \n",
       "3648    6.0   4.1  \n",
       "3649    6.7   8.8  \n",
       "3650    9.1   6.2  \n",
       "3651    7.0   7.9  \n",
       "\n",
       "[3652 rows x 11 columns]"
      ]
     },
     "execution_count": 329,
     "metadata": {},
     "output_type": "execute_result"
    }
   ],
   "source": [
    "df=pd.read_csv('madisontem_10.csv')\n",
    "df1=df.copy()\n",
    "df1\n"
   ]
  },
  {
   "cell_type": "code",
   "execution_count": 330,
   "id": "intermediate-london",
   "metadata": {},
   "outputs": [],
   "source": [
    "df1[\"Rain\"]=df1[\"PRCP\"].isin([0])==False"
   ]
  },
  {
   "cell_type": "code",
   "execution_count": 331,
   "id": "veterinary-organizer",
   "metadata": {},
   "outputs": [],
   "source": [
    "df1[[\"DATE\"]] = df1[[\"DATE\"]].apply(pd.to_datetime)\n",
    "df1[\"Month\"]=df1[\"DATE\"].dt.month"
   ]
  },
  {
   "cell_type": "code",
   "execution_count": 332,
   "id": "premium-highland",
   "metadata": {},
   "outputs": [
    {
     "data": {
      "text/plain": [
       "Text(0.5, 0.98, 'Figure 1b: Monthly: Number of times precipitations')"
      ]
     },
     "execution_count": 332,
     "metadata": {},
     "output_type": "execute_result"
    },
    {
     "data": {
      "image/png": "[encoded data removed]",
      "text/plain": [
       "<Figure size 720x180 with 1 Axes>"
      ]
     },
     "metadata": {
      "needs_background": "light"
     },
     "output_type": "display_data"
    },
    {
     "data": {
      "image/png": "[encoded data removed]",
      "text/plain": [
       "<Figure size 720x180 with 1 Axes>"
      ]
     },
     "metadata": {
      "needs_background": "light"
     },
     "output_type": "display_data"
    }
   ],
   "source": [
    "df_month=pd.DataFrame(df1.groupby(\"Month\")[\"PRCP\"].sum())/10\n",
    "df_month1=pd.DataFrame(df1.groupby(\"Month\")[\"Rain\"].sum(True))/10\n",
    "\n",
    "fig1, ax1 = plt.subplots(figsize=(10 ,2.5))\n",
    "df_month.plot(ax=ax1,kind='bar',color=\"red\", fontsize=10)\n",
    "ax1.set_ylabel(\"Amount (0.1 inch)\")\n",
    "ax1.legend([\"Precipitation\"],fontsize=10)\n",
    "fig1.suptitle(\"Figure 1a: Monthly: Amount of precipitations \", fontsize=20)\n",
    "fig2, ax2 = plt.subplots( figsize=(10 ,2.5))\n",
    "df_month1.plot(ax=ax2,kind='bar',color=\"blue\", fontsize=10,ylabel=\"Count(per month)\")\n",
    "ax2.legend([\"Precipitation\"],fontsize=10)\n",
    "fig2.suptitle(\"Figure 1b: Monthly: Number of times precipitations\", fontsize=20)"
   ]
  },
  {
   "cell_type": "code",
   "execution_count": 373,
   "id": "apparent-forge",
   "metadata": {},
   "outputs": [],
   "source": [
    "col=[\"DEWP\",\"MAX\",\"MIN\",\"STP\",\"TEMP\",\"WDSP\"]\n",
    "ycol=\"Rain\""
   ]
  },
  {
   "cell_type": "code",
   "execution_count": 379,
   "id": "incident-china",
   "metadata": {},
   "outputs": [
    {
     "name": "stdout",
     "output_type": "stream",
     "text": [
      "1    0.807526\n",
      "2    0.982344\n",
      "3    0.999525\n",
      "4    0.999725\n",
      "5    0.999893\n",
      "6    1.000000\n",
      "dtype: float64\n",
      "1    0.503400\n",
      "2    0.673635\n",
      "3    0.836190\n",
      "4    0.990480\n",
      "5    0.995603\n",
      "6    1.000000\n",
      "dtype: float64\n"
     ]
    },
    {
     "data": {
      "text/plain": [
       "Text(0.5, 1.0, 'Figure 2: Principal Components of Breaks')"
      ]
     },
     "execution_count": 379,
     "metadata": {},
     "output_type": "execute_result"
    },
    {
     "data": {
      "image/png": "[encoded data removed]",
      "text/plain": [
       "<Figure size 720x216 with 1 Axes>"
      ]
     },
     "metadata": {
      "needs_background": "light"
     },
     "output_type": "display_data"
    }
   ],
   "source": [
    "def explained(scale):\n",
    "    stages = [(\"imp\", SimpleImputer(strategy=\"most_frequent\"))]\n",
    "    if scale:\n",
    "        stages.append((\"std\", StandardScaler()))\n",
    "    stages.append((\"pca\", PCA()))\n",
    "    p = Pipeline(stages)\n",
    "    p.fit(df1[col])\n",
    "    explained = p[\"pca\"].explained_variance_ratio_\n",
    "    s = pd.Series(explained.cumsum() / explained.sum(),\n",
    "                  index=range(1, len(col)+1))\n",
    "    s.sort_index(inplace=True)\n",
    "    print(s)\n",
    "    return s\n",
    "plt = explained(False).plot.line(label=\"not scaled\",figsize=(10 ,3),ylim=(0,1))\n",
    "explained(True).plot.line(label=\"scaled\", ax=plt)\n",
    "plt.set_xlabel(\"Number of Components\")\n",
    "plt.set_ylabel(\"Explained Variance\")\n",
    "plt.spines[\"top\"].set_visible(False)\n",
    "plt.spines[\"right\"].set_visible(False)\n",
    "plt.legend(frameon=False)\n",
    "plt.set_title(\"Figure 2: Principal Components of Breaks\", pad=20)"
   ]
  },
  {
   "cell_type": "code",
   "execution_count": 375,
   "id": "armed-willow",
   "metadata": {},
   "outputs": [
    {
     "data": {
      "text/plain": [
       "((2739, 13), (913, 13))"
      ]
     },
     "execution_count": 375,
     "metadata": {},
     "output_type": "execute_result"
    }
   ],
   "source": [
    "train, test = train_test_split(df1, stratify=df1[\"Rain\"], random_state=0)\n",
    "train.shape, test.shape\n"
   ]
  },
  {
   "cell_type": "code",
   "execution_count": 376,
   "id": "strategic-spotlight",
   "metadata": {},
   "outputs": [
    {
     "name": "stdout",
     "output_type": "stream",
     "text": [
      "Score 0.7393209200438116\n",
      "Recall 0.559322033898305\n",
      "Precision 0.7071428571428572\n",
      "[[52.24534502  8.98138007]\n",
      " [17.08652793 21.68674699]]\n"
     ]
    }
   ],
   "source": [
    "from sklearn.linear_model import LinearRegression, Ridge, Lasso, ElasticNet\n",
    "def do_eval(balanced=None):\n",
    "    p = Pipeline([\n",
    "        (\"std\", StandardScaler()),\n",
    "        (\"lr\", LogisticRegression()),\n",
    "    ])\n",
    "    p.fit(train[col], train[ycol])\n",
    "    print(\"Score\", p.score(test[col], test[ycol]))\n",
    "    print(\"Recall\", recall_score(test[ycol], p.predict(test[col])))\n",
    "    print(\"Precision\", precision_score(test[ycol], p.predict(test[col])))\n",
    "    print(confusion_matrix(test[ycol], p.predict(test[col])) / len(test) * 100)\n",
    "    \n",
    "    return p\n",
    "p = do_eval()\n"
   ]
  },
  {
   "cell_type": "code",
   "execution_count": 377,
   "id": "referenced-thing",
   "metadata": {},
   "outputs": [
    {
     "data": {
      "text/plain": [
       "Text(0.5, 1.0, 'Figure 3: Logistic Regression Coefficients')"
      ]
     },
     "execution_count": 377,
     "metadata": {},
     "output_type": "execute_result"
    },
    {
     "data": {
      "image/png": "[encoded data removed]",
      "text/plain": [
       "<Figure size 720x216 with 1 Axes>"
      ]
     },
     "metadata": {
      "needs_background": "light"
     },
     "output_type": "display_data"
    }
   ],
   "source": [
    "idx = [t.replace(\"_\", \" \") for t in col]\n",
    "plt = pd.Series(p[\"lr\"].coef_[0], index=idx).plot.barh(figsize=(10 ,3))\n",
    "plt.set_xlabel(\"Weight\")\n",
    "plt.set_ylabel(\"Feature\")\n",
    "plt.spines[\"top\"].set_visible(False)\n",
    "plt.spines[\"right\"].set_visible(False)\n",
    "plt.set_title(\"Figure 3: Logistic Regression Coefficients\", pad=20)"
   ]
  },
  {
   "cell_type": "code",
   "execution_count": null,
   "id": "prerequisite-interaction",
   "metadata": {},
   "outputs": [],
   "source": []
  },
  {
   "cell_type": "code",
   "execution_count": null,
   "id": "framed-turtle",
   "metadata": {},
   "outputs": [],
   "source": []
  },
  {
   "cell_type": "code",
   "execution_count": null,
   "id": "dynamic-twins",
   "metadata": {},
   "outputs": [],
   "source": []
  },
  {
   "cell_type": "code",
   "execution_count": null,
   "id": "senior-immunology",
   "metadata": {},
   "outputs": [],
   "source": []
  }
 ],
 "metadata": {
  "kernelspec": {
   "display_name": "Python 3 (ipykernel)",
   "language": "python",
   "name": "python3"
  },
  "language_info": {
   "codemirror_mode": {
    "name": "ipython",
    "version": 3
   },
   "file_extension": ".py",
   "mimetype": "text/x-python",
   "name": "python",
   "nbconvert_exporter": "python",
   "pygments_lexer": "ipython3",
   "version": "3.9.7"
  }
 },
 "nbformat": 4,
 "nbformat_minor": 5
}
